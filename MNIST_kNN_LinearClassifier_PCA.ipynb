{
  "cells": [
    {
      "cell_type": "markdown",
      "metadata": {
        "id": "view-in-github",
        "colab_type": "text"
      },
      "source": [
        "<a href=\"https://colab.research.google.com/github/luan3642/T4---KNN---PCA/blob/main/MNIST_kNN_LinearClassifier_PCA.ipynb\" target=\"_parent\"><img src=\"https://colab.research.google.com/assets/colab-badge.svg\" alt=\"Open In Colab\"/></a>"
      ]
    },
    {
      "cell_type": "markdown",
      "id": "2ae06150",
      "metadata": {
        "id": "2ae06150"
      },
      "source": [
        "## 1. Carregamento e Normalização dos Dados"
      ]
    },
    {
      "cell_type": "code",
      "execution_count": null,
      "id": "62525b3c",
      "metadata": {
        "id": "62525b3c"
      },
      "outputs": [],
      "source": [
        "from sklearn.datasets import fetch_openml\n",
        "from sklearn.preprocessing import StandardScaler\n",
        "\n",
        "# Carregar MNIST\n",
        "mnist = fetch_openml('mnist_784', version=1)\n",
        "X, y = mnist.data / 255.0, mnist.target.astype('int')\n",
        "\n",
        "# Normalizar os dados (padronização com média 0 e desvio 1)\n",
        "scaler = StandardScaler()\n",
        "X_scaled = scaler.fit_transform(X)"
      ]
    },
    {
      "cell_type": "markdown",
      "id": "3177d53f",
      "metadata": {
        "id": "3177d53f"
      },
      "source": [
        "## 2. Divisão Treino/Validação/Teste (sem PCA)"
      ]
    },
    {
      "cell_type": "code",
      "execution_count": null,
      "id": "2a501626",
      "metadata": {
        "id": "2a501626"
      },
      "outputs": [],
      "source": [
        "from sklearn.model_selection import train_test_split\n",
        "\n",
        "# Dividir dados escalados em treino, validação e teste\n",
        "X_train, X_temp, y_train, y_temp = train_test_split(X_scaled, y, test_size=0.4, random_state=42)\n",
        "X_val, X_test, y_val, y_test = train_test_split(X_temp, y_temp, test_size=0.5)"
      ]
    },
    {
      "cell_type": "markdown",
      "id": "273e9f4d",
      "metadata": {
        "id": "273e9f4d"
      },
      "source": [
        "## 3. Modelos sem PCA: kNN e Regressão Logística"
      ]
    },
    {
      "cell_type": "code",
      "execution_count": null,
      "id": "bedf9b18",
      "metadata": {
        "colab": {
          "base_uri": "https://localhost:8080/"
        },
        "id": "bedf9b18",
        "outputId": "accf3e24-229b-40df-bd84-a889f78b6b92"
      },
      "outputs": [
        {
          "output_type": "stream",
          "name": "stdout",
          "text": [
            "kNN sem PCA (métrica=euclidean) – Acurácia validação: 0.9432\n",
            "kNN sem PCA (métrica=manhattan) – Acurácia validação: 0.9574\n",
            "kNN sem PCA (métrica=chebyshev) – Acurácia validação: 0.7543\n",
            "kNN sem PCA (métrica=minkowski) – Acurácia validação: 0.9432\n",
            "kNN sem PCA (métrica=cosine) – Acurácia validação: 0.9424\n"
          ]
        }
      ],
      "source": [
        "from sklearn.neighbors import KNeighborsClassifier\n",
        "from sklearn.linear_model import LogisticRegression\n",
        "from sklearn.metrics import accuracy_score\n",
        "\n",
        "# kNN testando com vários modelos diferentes\n",
        "\n",
        "# Exemplo adaptado para “sem PCA”:\n",
        "modelos = ['euclidean', 'manhattan', 'chebyshev', 'minkowski', 'cosine']\n",
        "resultados_knn_sem_pca = []\n",
        "\n",
        "for metrica in modelos:\n",
        "    knn = KNeighborsClassifier(n_neighbors=3, metric=metrica)\n",
        "    knn.fit(X_train, y_train)\n",
        "    y_pred = knn.predict(X_val)\n",
        "    acc = accuracy_score(y_val, y_pred)\n",
        "    resultados_knn_sem_pca.append((metrica, acc))\n",
        "    print(f\"kNN sem PCA (métrica={metrica}) – Acurácia validação: {acc:.4f}\")\n"
      ]
    },
    {
      "cell_type": "markdown",
      "id": "d4877988",
      "metadata": {
        "id": "d4877988"
      },
      "source": [
        "## 4. Aplicando PCA"
      ]
    },
    {
      "cell_type": "code",
      "execution_count": null,
      "id": "f7531014",
      "metadata": {
        "id": "f7531014"
      },
      "outputs": [],
      "source": [
        "from sklearn.decomposition import PCA\n",
        "\n",
        "# Reduzir para 50 componentes principais\n",
        "pca = PCA(n_components=50)\n",
        "X_pca = pca.fit_transform(X_scaled)"
      ]
    },
    {
      "cell_type": "markdown",
      "id": "eefd8cee",
      "metadata": {
        "id": "eefd8cee"
      },
      "source": [
        "## 5. Divisão Treino/Validação/Teste (com PCA)"
      ]
    },
    {
      "cell_type": "code",
      "execution_count": null,
      "id": "816e5a5e",
      "metadata": {
        "id": "816e5a5e"
      },
      "outputs": [],
      "source": [
        "# Dividir dados reduzidos com PCA\n",
        "X_train_pca, X_temp_pca, y_train, y_temp = train_test_split(X_pca, y, test_size=0.4, random_state=42)\n",
        "X_val_pca, X_test_pca, y_val, y_test = train_test_split(X_temp_pca, y_temp, test_size=0.5)"
      ]
    },
    {
      "cell_type": "markdown",
      "id": "881290de",
      "metadata": {
        "id": "881290de"
      },
      "source": [
        "## 6. Modelos com PCA: kNN e Regressão Logística"
      ]
    },
    {
      "cell_type": "code",
      "execution_count": null,
      "id": "2ea94c19",
      "metadata": {
        "colab": {
          "base_uri": "https://localhost:8080/"
        },
        "id": "2ea94c19",
        "outputId": "6d0f65b3-9909-4ab1-a1c3-5efdb30424cd"
      },
      "outputs": [
        {
          "output_type": "stream",
          "name": "stdout",
          "text": [
            "kNN com PCA (metric= euclidean) -- acuracia com pca 0.9588571428571429\n",
            "kNN com PCA (metric= manhattan) -- acuracia com pca 0.9561428571428572\n",
            "kNN com PCA (metric= chebyshev) -- acuracia com pca 0.9451428571428572\n",
            "kNN com PCA (metric= minkowski) -- acuracia com pca 0.9588571428571429\n",
            "kNN com PCA (metric= cosine) -- acuracia com pca 0.9560714285714286\n",
            "Regressão Logística com PCA - Acurácia validação: 0.9067857142857143\n"
          ]
        }
      ],
      "source": [
        "# kNN com PCA\n",
        "resultados_knn = []\n",
        "\n",
        "modelos = ['euclidean', 'manhattan', 'chebyshev', 'minkowski', 'cosine']\n",
        "\n",
        "for x in modelos:\n",
        "  knn_pca = KNeighborsClassifier(n_neighbors=3, metric=x)\n",
        "  knn_pca.fit(X_train_pca, y_train)\n",
        "  y_pred_knn_pca = knn_pca.predict(X_val_pca)\n",
        "\n",
        "  acc_knn_pca = accuracy_score(y_val, y_pred_knn_pca)\n",
        "  resultados_knn.append((x, acc_knn_pca))\n",
        "\n",
        "  print(f\"kNN com PCA (metric= {x}) -- acuracia com pca {acc_knn_pca}\")\n",
        "\n",
        "# Regressão Logística com PCA\n",
        "lr_pca = LogisticRegression(max_iter=1000)\n",
        "lr_pca.fit(X_train_pca, y_train)\n",
        "acc_lr_pca = lr_pca.score(X_val_pca, y_val)\n",
        "print(\"Regressão Logística com PCA - Acurácia validação:\", acc_lr_pca)"
      ]
    },
    {
      "cell_type": "code",
      "source": [],
      "metadata": {
        "id": "uDLvyqFcsPDT"
      },
      "id": "uDLvyqFcsPDT",
      "execution_count": null,
      "outputs": []
    },
    {
      "cell_type": "markdown",
      "source": [
        "##7. Testar diferentes proporções de divisão dos conjuntos"
      ],
      "metadata": {
        "id": "CKeDLr5xThc-"
      },
      "id": "CKeDLr5xThc-"
    },
    {
      "cell_type": "code",
      "source": [
        "def dividir_e_treinar(proporcao_treino):\n",
        "    # proporcao_treino pode ser exemplo: 0.7 (então restará 0.3 para temp)\n",
        "    X_train, X_temp, y_train, y_temp = train_test_split(X_scaled, y, test_size=1 - proporcao_treino, random_state=42)\n",
        "    # se proporcao_treino=0.7, X_temp tem 30%; vamos dividir em metade para val e metade para teste\n",
        "    X_val, X_test, y_val, y_test = train_test_split(X_temp, y_temp, test_size=0.5, random_state=42)\n",
        "    # Treinamento sem PCA\n",
        "    knn = KNeighborsClassifier(n_neighbors=3, metric='euclidean')\n",
        "    knn.fit(X_train, y_train)\n",
        "    acc_knn = accuracy_score(y_val, knn.predict(X_val))\n",
        "    lr = LogisticRegression(max_iter=1000)\n",
        "    lr.fit(X_train, y_train)\n",
        "    acc_lr = lr.score(X_val, y_val)\n",
        "    print(f\"Sem PCA → Treino: {proporcao_treino*100:.0f}% | kNN: {acc_knn:.4f} | LR: {acc_lr:.4f}\")\n",
        "    # Agora PCA\n",
        "    pca = PCA(n_components=50)\n",
        "    X_pca = pca.fit_transform(X_scaled)\n",
        "    X_train_pca, X_temp_pca, y_train_pca, y_temp_pca = train_test_split(X_pca, y, test_size=1 - proporcao_treino, random_state=42)\n",
        "    X_val_pca, X_test_pca, y_val_pca, y_test_pca = train_test_split(X_temp_pca, y_temp_pca, test_size=0.5, random_state=42)\n",
        "    knn_pca = KNeighborsClassifier(n_neighbors=3, metric='euclidean')\n",
        "    knn_pca.fit(X_train_pca, y_train_pca)\n",
        "    acc_knn_pca = accuracy_score(y_val_pca, knn_pca.predict(X_val_pca))\n",
        "    lr_pca = LogisticRegression(max_iter=1000)\n",
        "    lr_pca.fit(X_train_pca, y_train_pca)\n",
        "    acc_lr_pca = lr_pca.score(X_val_pca, y_val_pca)\n",
        "    print(f\"Com PCA → Treino: {proporcao_treino*100:.0f}% | kNN: {acc_knn_pca:.4f} | LR: {acc_lr_pca:.4f}\\\\n\")\n"
      ],
      "metadata": {
        "id": "tSE029NxsVtI"
      },
      "id": "tSE029NxsVtI",
      "execution_count": null,
      "outputs": []
    },
    {
      "cell_type": "markdown",
      "source": [
        "## 8. Gerando gráficos com Matplotlib\n",
        "\n",
        "---\n",
        "\n"
      ],
      "metadata": {
        "id": "bDj_2xEBsGRh"
      },
      "id": "bDj_2xEBsGRh"
    },
    {
      "cell_type": "code",
      "source": [
        "import matplotlib.pyplot as plt\n",
        "\n",
        "# Supondo que você já tenha as listas preenchidas:\n",
        "# resultados_knn_sem_pca = [('euclidean', 0.96), ('manhattan', 0.95), ...]\n",
        "# resultados_knn_com_pca = [('euclidean', 0.93), ('manhattan', 0.92), ...]\n",
        "\n",
        "metricas, accs_sem_pca = zip(*resultados_knn_sem_pca)\n",
        "_, accs_com_pca = zip(*resultados_knn)\n",
        "\n",
        "x = range(len(metricas))\n",
        "plt.figure(figsize=(8, 5))\n",
        "plt.bar([i - 0.2 for i in x], accs_sem_pca, width=0.4, label='Sem PCA')\n",
        "plt.bar([i + 0.2 for i in x], accs_com_pca, width=0.4, label='Com PCA')\n",
        "plt.xticks(x, metricas)\n",
        "plt.ylabel('Acurácia')\n",
        "plt.xlabel('Métrica de Distância')\n",
        "plt.title('kNN: Sem PCA vs Com PCA')\n",
        "plt.legend()\n",
        "plt.show()\n"
      ],
      "metadata": {
        "colab": {
          "base_uri": "https://localhost:8080/",
          "height": 487
        },
        "id": "z9wBIviKVJ_e",
        "outputId": "fd11a2cd-f4fa-4d7b-afad-665412dbf653"
      },
      "id": "z9wBIviKVJ_e",
      "execution_count": null,
      "outputs": [
        {
          "output_type": "display_data",
          "data": {
            "text/plain": [
              "<Figure size 800x500 with 1 Axes>"
            ],
            "image/png": "[encoded data removed]"
          },
          "metadata": {}
        }
      ]
    },
    {
      "cell_type": "code",
      "source": [
        "print(len(resultados_knn_sem_pca), len(resultados_knn))\n"
      ],
      "metadata": {
        "colab": {
          "base_uri": "https://localhost:8080/"
        },
        "id": "zInRRxhkeUev",
        "outputId": "405aa296-1501-4bba-c898-0dcac7650f83"
      },
      "id": "zInRRxhkeUev",
      "execution_count": null,
      "outputs": [
        {
          "output_type": "stream",
          "name": "stdout",
          "text": [
            "5 5\n"
          ]
        }
      ]
    },
    {
      "cell_type": "code",
      "source": [],
      "metadata": {
        "id": "JdzZuWH-fP5R"
      },
      "id": "JdzZuWH-fP5R",
      "execution_count": null,
      "outputs": []
    }
  ],
  "metadata": {
    "colab": {
      "provenance": [],
      "include_colab_link": true
    },
    "language_info": {
      "name": "python"
    },
    "kernelspec": {
      "name": "python3",
      "display_name": "Python 3"
    }
  },
  "nbformat": 4,
  "nbformat_minor": 5
}